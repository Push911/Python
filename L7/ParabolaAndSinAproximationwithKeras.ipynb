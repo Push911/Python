{
  "nbformat": 4,
  "nbformat_minor": 0,
  "metadata": {
    "colab": {
      "name": "ParabolaAndSinAproximationwithKeras.ipynb",
      "provenance": []
    },
    "kernelspec": {
      "name": "python3",
      "display_name": "Python 3"
    }
  },
  "cells": [
    {
      "cell_type": "code",
      "metadata": {
        "id": "nadeNnPJA8EM",
        "colab_type": "code",
        "colab": {}
      },
      "source": [
        "import keras\n",
        "from keras import models, layers, Sequential\n",
        "from keras.layers import Dense\n",
        "import numpy as np\n",
        "import matplotlib.pyplot as plt"
      ],
      "execution_count": 0,
      "outputs": []
    },
    {
      "cell_type": "code",
      "metadata": {
        "id": "nqLbQWibCVCQ",
        "colab_type": "code",
        "colab": {}
      },
      "source": [
        "epochs = 2000"
      ],
      "execution_count": 0,
      "outputs": []
    },
    {
      "cell_type": "markdown",
      "metadata": {
        "id": "IejRbqQsHoFB",
        "colab_type": "text"
      },
      "source": [
        "Parabola"
      ]
    },
    {
      "cell_type": "code",
      "metadata": {
        "id": "zq1WoJlBBdzf",
        "colab_type": "code",
        "colab": {
          "base_uri": "https://localhost:8080/",
          "height": 34
        },
        "outputId": "5dc7bf0b-825f-4bce-c256-2fb1b4957aab"
      },
      "source": [
        "x = np.linspace(-50, 50, 26)\n",
        "y = x ** 2\n",
        "trainInp = np.reshape(x, (len(x), 1))\n",
        "trainOut = np.reshape(y, (len(y), 1))"
      ],
      "execution_count": 4,
      "outputs": [
        {
          "output_type": "execute_result",
          "data": {
            "text/plain": [
              "((26, 1), (26, 1))"
            ]
          },
          "metadata": {
            "tags": []
          },
          "execution_count": 4
        }
      ]
    },
    {
      "cell_type": "code",
      "metadata": {
        "id": "UdVDneIKB-Vz",
        "colab_type": "code",
        "colab": {
          "base_uri": "https://localhost:8080/",
          "height": 34
        },
        "outputId": "a0e9ddee-536e-42cf-8bdb-f201f4242318"
      },
      "source": [
        "model = Sequential()\n",
        "model.add(Dense(len(x), input_dim=1, activation='sigmoid'))\n",
        "model.add(Dense(5, activation='relu'))\n",
        "model.add(Dense(1))\n",
        "model.compile(loss='mse', optimizer='adam')\n",
        "model.fit(x, y, epochs=epochs, batch_size=10, verbose=0)"
      ],
      "execution_count": 38,
      "outputs": [
        {
          "output_type": "execute_result",
          "data": {
            "text/plain": [
              "<keras.callbacks.callbacks.History at 0x7f124dfd5ac8>"
            ]
          },
          "metadata": {
            "tags": []
          },
          "execution_count": 38
        }
      ]
    },
    {
      "cell_type": "code",
      "metadata": {
        "id": "-WwpQga3GxKU",
        "colab_type": "code",
        "colab": {}
      },
      "source": [
        "predictedOut = model.predict(x)"
      ],
      "execution_count": 0,
      "outputs": []
    },
    {
      "cell_type": "code",
      "metadata": {
        "id": "dTMWw2V2CpCS",
        "colab_type": "code",
        "colab": {}
      },
      "source": [
        "testX = np.linspace(-50, 50, 101)\n",
        "testInp = np.reshape(testX, (len(testX), 1))"
      ],
      "execution_count": 0,
      "outputs": []
    },
    {
      "cell_type": "code",
      "metadata": {
        "id": "lJUGj8CgDmG4",
        "colab_type": "code",
        "colab": {}
      },
      "source": [
        "testOut = model.predict(testX)"
      ],
      "execution_count": 0,
      "outputs": []
    },
    {
      "cell_type": "code",
      "metadata": {
        "id": "LL5EpugGDBl5",
        "colab_type": "code",
        "colab": {
          "base_uri": "https://localhost:8080/",
          "height": 281
        },
        "outputId": "a5aaf1db-72f3-4732-df43-6699479ecfb7"
      },
      "source": [
        "fig, axs = plt.subplots(3)\n",
        "axs[0].set_title(\"Original\")\n",
        "axs[0].scatter(x, y)\n",
        "axs[1].set_title(\"Aproximated for original input\")\n",
        "axs[1].scatter(trainInp, predictedOut)\n",
        "axs[2].set_title(\"Aproximated for testing input\")\n",
        "axs[2].scatter(testInp, testOut)\n",
        "plt.show()"
      ],
      "execution_count": 45,
      "outputs": [
        {
          "output_type": "display_data",
          "data": {
            "image/png": "[encoded data removed]",
            "text/plain": [
              "<Figure size 432x288 with 3 Axes>"
            ]
          },
          "metadata": {
            "tags": [],
            "needs_background": "light"
          }
        }
      ]
    },
    {
      "cell_type": "markdown",
      "metadata": {
        "id": "nZcDvk44HpgK",
        "colab_type": "text"
      },
      "source": [
        "Sin"
      ]
    },
    {
      "cell_type": "code",
      "metadata": {
        "id": "cd8B1YlzHqtG",
        "colab_type": "code",
        "colab": {}
      },
      "source": [
        "x = np.linspace(0, 2, 21)\n",
        "y = np.sin(x * (3 * np.pi / 2))\n",
        "trainInp = np.reshape(x, (len(x), 1))\n",
        "trainOut = np.reshape(y, (len(y), 1))"
      ],
      "execution_count": 0,
      "outputs": []
    },
    {
      "cell_type": "code",
      "metadata": {
        "id": "TShfvlCMH0de",
        "colab_type": "code",
        "colab": {
          "base_uri": "https://localhost:8080/",
          "height": 34
        },
        "outputId": "96f1afd1-ae5c-4443-ca98-6163d8716919"
      },
      "source": [
        "model = Sequential()\n",
        "model.add(Dense(len(x), input_dim=1, activation='sigmoid'))\n",
        "model.add(Dense(5, activation='relu'))\n",
        "model.add(Dense(1))\n",
        "model.compile(loss='mse', optimizer='adam')\n",
        "model.fit(x, y, epochs=epochs, batch_size=10, verbose=0)"
      ],
      "execution_count": 47,
      "outputs": [
        {
          "output_type": "execute_result",
          "data": {
            "text/plain": [
              "<keras.callbacks.callbacks.History at 0x7f124dce2a58>"
            ]
          },
          "metadata": {
            "tags": []
          },
          "execution_count": 47
        }
      ]
    },
    {
      "cell_type": "code",
      "metadata": {
        "id": "YMzOO9NCH5RH",
        "colab_type": "code",
        "colab": {}
      },
      "source": [
        "predictedOut = model.predict(x)"
      ],
      "execution_count": 0,
      "outputs": []
    },
    {
      "cell_type": "code",
      "metadata": {
        "id": "4NPi2R1IH53U",
        "colab_type": "code",
        "colab": {}
      },
      "source": [
        "testX = np.linspace(0, 2, 161)\n",
        "testInp = np.reshape(testX, (len(testX), 1))"
      ],
      "execution_count": 0,
      "outputs": []
    },
    {
      "cell_type": "code",
      "metadata": {
        "id": "pGXoycjgIH_e",
        "colab_type": "code",
        "colab": {}
      },
      "source": [
        "testOut = model.predict(testX)"
      ],
      "execution_count": 0,
      "outputs": []
    },
    {
      "cell_type": "code",
      "metadata": {
        "id": "Kz-9HkVIIM52",
        "colab_type": "code",
        "colab": {
          "base_uri": "https://localhost:8080/",
          "height": 281
        },
        "outputId": "cb20de36-80a7-4d58-bdc4-293de763838a"
      },
      "source": [
        "fig, axs = plt.subplots(3)\n",
        "axs[0].set_title(\"Original\")\n",
        "axs[0].scatter(x, y)\n",
        "axs[1].set_title(\"Aproximated for original input\")\n",
        "axs[1].scatter(trainInp, predictedOut)\n",
        "axs[2].set_title(\"Aproximated for testing input\")\n",
        "axs[2].scatter(testInp, testOut)\n",
        "plt.show()"
      ],
      "execution_count": 51,
      "outputs": [
        {
          "output_type": "display_data",
          "data": {
            "image/png": "[encoded data removed]",
            "text/plain": [
              "<Figure size 432x288 with 3 Axes>"
            ]
          },
          "metadata": {
            "tags": [],
            "needs_background": "light"
          }
        }
      ]
    }
  ]
}